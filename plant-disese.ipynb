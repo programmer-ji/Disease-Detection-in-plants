{
 "cells": [
  {
   "cell_type": "code",
   "execution_count": 1,
   "metadata": {},
   "outputs": [
    {
     "name": "stderr",
     "output_type": "stream",
     "text": [
      "UsageError: Line magic function `%tensorflow_version` not found.\n"
     ]
    }
   ],
   "source": [
    "%tensorflow_version 1.x"
   ]
  },
  {
   "cell_type": "code",
   "execution_count": 2,
   "metadata": {},
   "outputs": [
    {
     "name": "stdout",
     "output_type": "stream",
     "text": [
      "2.6.0-dev20210606\n"
     ]
    }
   ],
   "source": [
    "import tensorflow\n",
    "print(tensorflow.__version__)"
   ]
  },
  {
   "cell_type": "code",
   "execution_count": 3,
   "metadata": {},
   "outputs": [
    {
     "name": "stdout",
     "output_type": "stream",
     "text": [
      "{'diseased': 0, 'healthy': 1}\n",
      "['diseased', 'healthy']\n",
      "[0, 1]\n"
     ]
    }
   ],
   "source": [
    "import cv2,os\n",
    "data_path='C:/Users/BHARGAVI BODDAPU/Desktop/Deepa/plant disese/plant/input'\n",
    "categories=os.listdir(data_path)\n",
    "labels=[i for i in range(len(categories))]\n",
    "\n",
    "label_dict=dict(zip(categories,labels)) #empty dictionary\n",
    "print(label_dict)\n",
    "print(categories)\n",
    "print(labels)"
   ]
  },
  {
   "cell_type": "code",
   "execution_count": 4,
   "metadata": {},
   "outputs": [],
   "source": [
    "img_size=100\n",
    "data=[]\n",
    "target=[]\n",
    "\n",
    "for category in categories:\n",
    "    folder_path=os.path.join(data_path,category)\n",
    "    img_names=os.listdir(folder_path)\n",
    "        \n",
    "    for img_name in img_names:\n",
    "        img_path=os.path.join(folder_path,img_name)\n",
    "        img=cv2.imread(img_path)\n",
    "\n",
    "        try:  \n",
    "            resized=cv2.resize(img,(img_size,img_size))\n",
    "            #resizing the image  into 100x100, since we need a fixed common size for all the images in the dataset\n",
    "            data.append(resized)\n",
    "            target.append(label_dict[category])\n",
    "            #appending the image and the label(categorized) into the list (dataset)\n",
    "        except Exception as e:\n",
    "            print('Exception:',e)\n",
    "            #if any exception rasied, the exception will be printed here. And pass to the next image"
   ]
  },
  {
   "cell_type": "code",
   "execution_count": 5,
   "metadata": {},
   "outputs": [],
   "source": [
    "import numpy as np\n",
    "data=np.array(data)/255.0\n",
    "data=np.reshape(data,(data.shape[0],img_size,img_size,3))\n",
    "target=np.array(target)\n",
    "from keras.utils import np_utils\n",
    "new_target=np_utils.to_categorical(target)"
   ]
  },
  {
   "cell_type": "code",
   "execution_count": 6,
   "metadata": {},
   "outputs": [
    {
     "data": {
      "text/plain": [
       "(252, 2)"
      ]
     },
     "execution_count": 6,
     "metadata": {},
     "output_type": "execute_result"
    }
   ],
   "source": [
    "new_target.shape"
   ]
  },
  {
   "cell_type": "code",
   "execution_count": 7,
   "metadata": {},
   "outputs": [
    {
     "data": {
      "text/plain": [
       "(252, 100, 100, 3)"
      ]
     },
     "execution_count": 7,
     "metadata": {},
     "output_type": "execute_result"
    }
   ],
   "source": [
    "data.shape"
   ]
  },
  {
   "cell_type": "code",
   "execution_count": 8,
   "metadata": {},
   "outputs": [
    {
     "data": {
      "text/plain": [
       "(100, 100, 3)"
      ]
     },
     "execution_count": 8,
     "metadata": {},
     "output_type": "execute_result"
    }
   ],
   "source": [
    "data.shape[1:]"
   ]
  },
  {
   "cell_type": "code",
   "execution_count": 9,
   "metadata": {},
   "outputs": [],
   "source": [
    "from keras.models import Sequential\n",
    "from keras.layers import Dense,Activation,Flatten,Dropout\n",
    "from keras.layers import Conv2D,MaxPooling2D\n",
    "from keras.callbacks import ModelCheckpoint\n",
    "\n",
    "model1=Sequential()\n",
    "\n",
    "model1.add(Conv2D(200,(3,3),input_shape=data.shape[1:]))\n",
    "model1.add(Activation('relu'))\n",
    "model1.add(MaxPooling2D(pool_size=(2,2)))\n",
    "#The first CNN layer followed by Relu and MaxPooling layers\n",
    "\n",
    "model1.add(Conv2D(100,(3,3)))\n",
    "model1.add(Activation('relu'))\n",
    "model1.add(MaxPooling2D(pool_size=(2,2)))\n",
    "#The second convolution layer followed by Relu and MaxPooling layers\n",
    "\n",
    "model1.add(Flatten())\n",
    "model1.add(Dropout(0.5))\n",
    "#Flatten layer to stack the output convolutions from second convolution layer\n",
    "model1.add(Dense(50,activation='relu'))\n",
    "#Dense layer of 64 neurons\n",
    "model1.add(Dense(2,activation='softmax'))\n",
    "#The Final layer with two outputs for two categories\n",
    "\n",
    "model1.compile(loss='categorical_crossentropy',optimizer='adam',metrics=['accuracy'])"
   ]
  },
  {
   "cell_type": "code",
   "execution_count": 10,
   "metadata": {},
   "outputs": [
    {
     "name": "stdout",
     "output_type": "stream",
     "text": [
      "Model: \"sequential\"\n",
      "_________________________________________________________________\n",
      "Layer (type)                 Output Shape              Param #   \n",
      "=================================================================\n",
      "conv2d (Conv2D)              (None, 98, 98, 200)       5600      \n",
      "_________________________________________________________________\n",
      "activation (Activation)      (None, 98, 98, 200)       0         \n",
      "_________________________________________________________________\n",
      "max_pooling2d (MaxPooling2D) (None, 49, 49, 200)       0         \n",
      "_________________________________________________________________\n",
      "conv2d_1 (Conv2D)            (None, 47, 47, 100)       180100    \n",
      "_________________________________________________________________\n",
      "activation_1 (Activation)    (None, 47, 47, 100)       0         \n",
      "_________________________________________________________________\n",
      "max_pooling2d_1 (MaxPooling2 (None, 23, 23, 100)       0         \n",
      "_________________________________________________________________\n",
      "flatten (Flatten)            (None, 52900)             0         \n",
      "_________________________________________________________________\n",
      "dropout (Dropout)            (None, 52900)             0         \n",
      "_________________________________________________________________\n",
      "dense (Dense)                (None, 50)                2645050   \n",
      "_________________________________________________________________\n",
      "dense_1 (Dense)              (None, 2)                 102       \n",
      "=================================================================\n",
      "Total params: 2,830,852\n",
      "Trainable params: 2,830,852\n",
      "Non-trainable params: 0\n",
      "_________________________________________________________________\n"
     ]
    }
   ],
   "source": [
    "model1.summary()"
   ]
  },
  {
   "cell_type": "code",
   "execution_count": 11,
   "metadata": {},
   "outputs": [],
   "source": [
    "from sklearn.model_selection import train_test_split\n",
    "train_data,test_data,train_target,test_target=train_test_split(data,new_target,test_size=0.1)"
   ]
  },
  {
   "cell_type": "code",
   "execution_count": 12,
   "metadata": {},
   "outputs": [
    {
     "data": {
      "text/plain": [
       "(226, 100, 100, 3)"
      ]
     },
     "execution_count": 12,
     "metadata": {},
     "output_type": "execute_result"
    }
   ],
   "source": [
    "train_data.shape"
   ]
  },
  {
   "cell_type": "code",
   "execution_count": 13,
   "metadata": {},
   "outputs": [
    {
     "data": {
      "text/plain": [
       "(226, 2)"
      ]
     },
     "execution_count": 13,
     "metadata": {},
     "output_type": "execute_result"
    }
   ],
   "source": [
    "train_target.shape"
   ]
  },
  {
   "cell_type": "code",
   "execution_count": 14,
   "metadata": {},
   "outputs": [
    {
     "name": "stdout",
     "output_type": "stream",
     "text": [
      "Epoch 1/20\n",
      "6/6 [==============================] - 17s 3s/step - loss: 1.2714 - accuracy: 0.5500 - val_loss: 0.6931 - val_accuracy: 0.5435\n",
      "Epoch 2/20\n",
      "6/6 [==============================] - 13s 2s/step - loss: 0.6703 - accuracy: 0.6222 - val_loss: 0.7268 - val_accuracy: 0.5435\n",
      "Epoch 3/20\n",
      "6/6 [==============================] - 13s 2s/step - loss: 0.6856 - accuracy: 0.6389 - val_loss: 0.6868 - val_accuracy: 0.4783\n",
      "Epoch 4/20\n",
      "6/6 [==============================] - 12s 2s/step - loss: 0.6836 - accuracy: 0.5222 - val_loss: 0.6845 - val_accuracy: 0.5435\n",
      "Epoch 5/20\n",
      "6/6 [==============================] - 13s 2s/step - loss: 0.6440 - accuracy: 0.6278 - val_loss: 0.6778 - val_accuracy: 0.5435\n",
      "Epoch 6/20\n",
      "6/6 [==============================] - 13s 2s/step - loss: 0.6184 - accuracy: 0.6611 - val_loss: 0.6443 - val_accuracy: 0.6087\n",
      "Epoch 7/20\n",
      "6/6 [==============================] - 13s 2s/step - loss: 0.5814 - accuracy: 0.6889 - val_loss: 0.6138 - val_accuracy: 0.7826\n",
      "Epoch 8/20\n",
      "6/6 [==============================] - 12s 2s/step - loss: 0.5618 - accuracy: 0.7556 - val_loss: 0.6481 - val_accuracy: 0.6087\n",
      "Epoch 9/20\n",
      "6/6 [==============================] - 13s 2s/step - loss: 0.4824 - accuracy: 0.8333 - val_loss: 0.6286 - val_accuracy: 0.6522\n",
      "Epoch 10/20\n",
      "6/6 [==============================] - 13s 2s/step - loss: 0.4267 - accuracy: 0.8167 - val_loss: 0.5019 - val_accuracy: 0.7174\n",
      "Epoch 11/20\n",
      "6/6 [==============================] - 13s 2s/step - loss: 0.3903 - accuracy: 0.8167 - val_loss: 0.5418 - val_accuracy: 0.6739\n",
      "Epoch 12/20\n",
      "6/6 [==============================] - 13s 2s/step - loss: 0.3694 - accuracy: 0.8333 - val_loss: 0.4583 - val_accuracy: 0.7609\n",
      "Epoch 13/20\n",
      "6/6 [==============================] - 13s 2s/step - loss: 0.3010 - accuracy: 0.9056 - val_loss: 0.5788 - val_accuracy: 0.6957\n",
      "Epoch 14/20\n",
      "6/6 [==============================] - 13s 2s/step - loss: 0.2910 - accuracy: 0.8833 - val_loss: 0.3516 - val_accuracy: 0.8913\n",
      "Epoch 15/20\n",
      "6/6 [==============================] - 13s 2s/step - loss: 0.2457 - accuracy: 0.9056 - val_loss: 0.3274 - val_accuracy: 0.8478\n",
      "Epoch 16/20\n",
      "6/6 [==============================] - 13s 2s/step - loss: 0.2100 - accuracy: 0.9278 - val_loss: 0.4692 - val_accuracy: 0.8261\n",
      "Epoch 17/20\n",
      "6/6 [==============================] - 13s 2s/step - loss: 0.1866 - accuracy: 0.9278 - val_loss: 0.3454 - val_accuracy: 0.8696\n",
      "Epoch 18/20\n",
      "6/6 [==============================] - 13s 2s/step - loss: 0.1815 - accuracy: 0.9500 - val_loss: 0.3410 - val_accuracy: 0.8696\n",
      "Epoch 19/20\n",
      "6/6 [==============================] - 13s 2s/step - loss: 0.1540 - accuracy: 0.9500 - val_loss: 0.2772 - val_accuracy: 0.8913\n",
      "Epoch 20/20\n",
      "6/6 [==============================] - 13s 2s/step - loss: 0.1278 - accuracy: 0.9611 - val_loss: 0.3489 - val_accuracy: 0.8696\n"
     ]
    }
   ],
   "source": [
    "#checkpoint = ModelCheckpoint('model-{epoch:03d}.model',monitor='val_loss',verbose=0,save_best_only=True,mode='auto')\n",
    "history=model1.fit(train_data,train_target,epochs=20,validation_split=0.2)"
   ]
  },
  {
   "cell_type": "code",
   "execution_count": 15,
   "metadata": {},
   "outputs": [],
   "source": [
    "model1.save('model1.h5')"
   ]
  },
  {
   "cell_type": "code",
   "execution_count": 16,
   "metadata": {},
   "outputs": [],
   "source": [
    "from matplotlib import pyplot as plt"
   ]
  },
  {
   "cell_type": "code",
   "execution_count": 17,
   "metadata": {},
   "outputs": [
    {
     "data": {
      "image/png": "[encoded data removed]",
      "text/plain": [
       "<Figure size 432x288 with 1 Axes>"
      ]
     },
     "metadata": {},
     "output_type": "display_data"
    }
   ],
   "source": [
    "# plot the training loss and accuracy\n",
    "N = 20\n",
    "plt.style.use(\"ggplot\")\n",
    "plt.figure()\n",
    "plt.plot(np.arange(0, N), history.history[\"loss\"], label=\"train_loss\")\n",
    "plt.plot(np.arange(0, N), history.history[\"val_loss\"], label=\"val_loss\")\n",
    "plt.plot(np.arange(0, N), history.history[\"accuracy\"], label=\"train_acc\")\n",
    "plt.plot(np.arange(0, N), history.history[\"val_accuracy\"], label=\"val_acc\")\n",
    "plt.title(\"Training Loss and Accuracy\")\n",
    "plt.xlabel(\"Epoch #\")\n",
    "plt.ylabel(\"Loss/Accuracy\")\n",
    "plt.legend(loc=\"center right\")\n",
    "plt.savefig(\"CNN_Model\")"
   ]
  },
  {
   "cell_type": "code",
   "execution_count": null,
   "metadata": {},
   "outputs": [],
   "source": []
  }
 ],
 "metadata": {
  "kernelspec": {
   "display_name": "Python 3",
   "language": "python",
   "name": "python3"
  },
  "language_info": {
   "codemirror_mode": {
    "name": "ipython",
    "version": 3
   },
   "file_extension": ".py",
   "mimetype": "text/x-python",
   "name": "python",
   "nbconvert_exporter": "python",
   "pygments_lexer": "ipython3",
   "version": "3.8.8"
  }
 },
 "nbformat": 4,
 "nbformat_minor": 4
}
